{
  "cells": [
    {
      "cell_type": "markdown",
      "metadata": {
        "id": "RpCJZUyx88ho"
      },
      "source": [
        "#**Parte 1: Creazione di una Rete Neurale da Zero**\n",
        "##**Task**\n",
        "* Predire i prezzi delle case basandosi su caratteristiche strutturali e geografiche.\n",
        "\n",
        "##**Dataset**\n",
        "* Dataset Reale: Ames Housing Dataset\n",
        "* Link: [Ames Housing Dataset](https://www.kaggle.com/datasets/shashanknecrothapa/ames-housing-dataset).\n",
        "* Descrizione:\n",
        "Contiene dati su oltre 2.900 proprietà immobiliari, con oltre 80 variabili (es. numero di camere, superficie abitabile, anno di costruzione, etc.) e il prezzo di vendita.\n",
        "\n",
        "##**Obiettivi Specifici**\n",
        "1. Preprocessing:\n",
        " * Gestire valori mancanti e variabili categoriche (ad es., encoding delle categorie).\n",
        " * Normalizzare le variabili numeriche.\n",
        " * Dividere il dataset in training, validation e test.\n",
        "2. Costruzione della rete neurale:\n",
        " * Implementare una rete neurale feedforward da zero con almeno: Un input layer compatibile con il numero di feature, Due hidden layers con funzioni di attivazione (es. ReLU),Un output layer per la regressione.\n",
        " * Sperimentare con iperparametri (es. numero di neuroni, batch size, learning rate).\n",
        "3. Addestramento e Valutazione:\n",
        " * Utilizzare la Mean Squared Error (MSE) come funzione di perdita.\n",
        " * Valutare le performance sui dati di test con MAE e RMSE.\n",
        "4. Visualizzazione:\n",
        " * Mostrare l'andamento della loss (train/validation) durante l'addestramento.\n",
        " * Visualizzare la correlazione tra i prezzi reali e quelli predetti.\n",
        "5. Confronto:\n",
        " * Addestrare e testare un qualsiasi altro modello di regressione (non deep learning) sullo stesso task, e confrontare i risultati con rete neurale custom."
      ]
    },
    {
      "cell_type": "markdown",
      "metadata": {
        "id": "fQbrctUj-Tzo"
      },
      "source": [
        "#**Parte 2: Uso di un Modello Pre-Addestrato**\n",
        "##**Task**\n",
        "* Classificare immagini di oggetti in diverse categorie utilizzando un modello pre-addestrato.\n",
        "\n",
        "##**Dataset**\n",
        "* Dataset Reale: Caltech 101\n",
        "* Link: [Caltech 101 Dataset](https://www.tensorflow.org/datasets/catalog/caltech101?hl=it).\n",
        "* Descrizione:\n",
        "Contiene immagini appartenenti a 101 categorie (es. automobili, animali, strumenti musicali, etc.), con dimensioni variabili.\n",
        "##**Obiettivi Specifici**\n",
        "1. Preprocessing:\n",
        " * Scegliere 5 delle 101 classi del dataset come le 5 classi finali che il modello deve classificare.\n",
        " * Ridimensionare le immagini a una risoluzione compatibile con il modello pre-addestrato (es. 224x224).\n",
        "2. Utilizzo del Modello Pre-Addestrato:\n",
        " * Caricare un modello pre-addestrato (es. ResNet50 o MobileNet) con pesi di ImageNet.\n",
        " * Il modello deve essere importato da tensorflow o da pytorch. NO modelli esterni.\n",
        " * Congelare i layer convoluzionali e aggiungere un classificatore personalizzato (fully connected) per le 5 categorie del dataset.\n",
        "3. Fine-tuning:\n",
        " * Sbloccare alcuni layer convoluzionali e riaddestrarli per migliorare le performance.\n",
        "4. Addestramento e Valutazione:\n",
        " * Utilizzare la Cross-Entropy come funzione di perdita.\n",
        " * Valutare le performance con metriche come accuratezza e F1-score.\n",
        "5. Visualizzazione:\n",
        " * Mostrare alcune immagini del dataset con le rispettive predizioni.\n",
        " * Creare un grafico della matrice di confusione.\n",
        "5. Confronto:\n",
        " * Testare il modello pre-addestrato sui dati di test delle 5 classi, confrontare il modello pre-addestrato e il modello finetunato e mostrare le differenze nell'utilizzo dell'uno e dell'altro."
      ]
    },
    {
      "cell_type": "code",
      "execution_count": null,
      "metadata": {
        "id": "R7Eoeqbj851k"
      },
      "outputs": [],
      "source": []
    }
  ],
  "metadata": {
    "colab": {
      "provenance": []
    },
    "kernelspec": {
      "display_name": "Python 3",
      "name": "python3"
    },
    "language_info": {
      "name": "python"
    }
  },
  "nbformat": 4,
  "nbformat_minor": 0
}
