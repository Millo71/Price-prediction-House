{
 "cells": [
  {
   "cell_type": "markdown",
   "metadata": {},
   "source": [
    "# Import"
   ]
  },
  {
   "cell_type": "code",
   "execution_count": 50,
   "metadata": {},
   "outputs": [],
   "source": [
    "import numpy as np # type: ignore\n",
    "import pandas as pd # type: ignore\n",
    "from sklearn.datasets import make_classification # type: ignore\n",
    "from sklearn.model_selection import train_test_split # type: ignore\n",
    "from sklearn.preprocessing import StandardScaler # type: ignore\n",
    "from sklearn.metrics import accuracy_score # type: ignore\n",
    "import tensorflow as tf # type: ignore\n",
    "from tensorflow.keras.models import Sequential # type: ignore\n",
    "from tensorflow.keras.layers import Dense # type: ignore\n",
    "from tensorflow.keras.optimizers import Adam # type: ignore\n",
    "import matplotlib.pyplot as plt # type: ignore\n",
    "from sklearn.calibration import LabelEncoder # type: ignore\n",
    "from tensorflow.keras.callbacks import EarlyStopping # type: ignore\n",
    "from sklearn.metrics import mean_absolute_error, mean_squared_error # type: ignore\n",
    "from sklearn.ensemble import RandomForestRegressor # type: ignore\n",
    "from sklearn.tree import DecisionTreeRegressor # type: ignore\n",
    "import seaborn as sns # type: ignore"
   ]
  },
  {
   "cell_type": "markdown",
   "metadata": {},
   "source": [
    "path"
   ]
  },
  {
   "cell_type": "code",
   "execution_count": 51,
   "metadata": {},
   "outputs": [],
   "source": [
    "path = \"C:/Users/Alessio/Desktop/Corso IA/Machine Learning/Esercitazione Neural Network/Dataset\""
   ]
  },
  {
   "cell_type": "markdown",
   "metadata": {},
   "source": [
    "# Pulizia del dataset"
   ]
  },
  {
   "cell_type": "code",
   "execution_count": 52,
   "metadata": {},
   "outputs": [],
   "source": [
    "df = pd.read_csv(path + \"/AmesHousing.csv\")"
   ]
  },
  {
   "cell_type": "code",
   "execution_count": 53,
   "metadata": {},
   "outputs": [],
   "source": [
    "df = pd.DataFrame(df)"
   ]
  },
  {
   "cell_type": "code",
   "execution_count": null,
   "metadata": {},
   "outputs": [],
   "source": [
    "df.info()"
   ]
  },
  {
   "cell_type": "code",
   "execution_count": null,
   "metadata": {},
   "outputs": [],
   "source": [
    "df.head()"
   ]
  },
  {
   "cell_type": "markdown",
   "metadata": {},
   "source": [
    "Fillo le colonne NaN"
   ]
  },
  {
   "cell_type": "code",
   "execution_count": 56,
   "metadata": {},
   "outputs": [],
   "source": [
    "df_fill = df.copy()\n",
    "\n",
    "for col in df_fill.columns:\n",
    "    if df_fill[col].isnull().sum() > 0:\n",
    "        if df_fill[col].dtype == \"object\":\n",
    "            df_fill[col] = df_fill[col].fillna(\"\")\n",
    "        else:\n",
    "            df_fill[col] = df_fill[col].fillna(0)"
   ]
  },
  {
   "cell_type": "code",
   "execution_count": null,
   "metadata": {},
   "outputs": [],
   "source": [
    "df_fill.info()"
   ]
  },
  {
   "cell_type": "code",
   "execution_count": null,
   "metadata": {},
   "outputs": [],
   "source": [
    "missing_values = df_fill.isnull().sum()\n",
    "print(\"Valori mancanti per colonna:\")\n",
    "print(missing_values)"
   ]
  },
  {
   "cell_type": "markdown",
   "metadata": {},
   "source": [
    "Controllo dimensioni del dataset"
   ]
  },
  {
   "cell_type": "code",
   "execution_count": null,
   "metadata": {},
   "outputs": [],
   "source": [
    "print(f\"Dimensioni del dataset: {df.shape}\")\n",
    "print(f\"Totale righe: {df.shape[0]}\")\n",
    "print(f\"Totale colonne: {df.shape[1]}\")"
   ]
  },
  {
   "cell_type": "markdown",
   "metadata": {},
   "source": [
    "Encoding"
   ]
  },
  {
   "cell_type": "code",
   "execution_count": 60,
   "metadata": {},
   "outputs": [],
   "source": [
    "def encode_non_numeric_columns(df):\n",
    "    #Crea un oggetto LabelEncoder\n",
    "    le = LabelEncoder()\n",
    "    \n",
    "    #Itera sulle colonne del DataFrame\n",
    "    for col in df.columns:\n",
    "        #Verifica se la colonna non è numerica\n",
    "        if df[col].dtype == 'object':  # Puoi anche usare `df[col].apply(type).eq(str).any()`\n",
    "            #Applica il LabelEncoder solo se la colonna è di tipo 'object' (non numerica)\n",
    "            df[col] = le.fit_transform(df[col])\n",
    "    \n",
    "    return df"
   ]
  },
  {
   "cell_type": "code",
   "execution_count": 61,
   "metadata": {},
   "outputs": [],
   "source": [
    "df_encoded = encode_non_numeric_columns(df_fill)"
   ]
  },
  {
   "cell_type": "code",
   "execution_count": null,
   "metadata": {},
   "outputs": [],
   "source": [
    "df_encoded.head()"
   ]
  },
  {
   "cell_type": "code",
   "execution_count": null,
   "metadata": {},
   "outputs": [],
   "source": [
    "df_encoded.info()"
   ]
  },
  {
   "cell_type": "markdown",
   "metadata": {},
   "source": [
    "Dati scalati"
   ]
  },
  {
   "cell_type": "code",
   "execution_count": 64,
   "metadata": {},
   "outputs": [],
   "source": [
    "scaler = StandardScaler()\n",
    "df_encoded[df_encoded.select_dtypes(include=['float64', 'int64']).columns] = scaler.fit_transform(df_fill.select_dtypes(include=['float64', 'int64']))"
   ]
  },
  {
   "cell_type": "markdown",
   "metadata": {},
   "source": [
    "Split dataset Train Fit"
   ]
  },
  {
   "cell_type": "code",
   "execution_count": 65,
   "metadata": {},
   "outputs": [],
   "source": [
    "X = df_encoded.drop('SalePrice', axis=1)  \n",
    "y = df_encoded['SalePrice'] \n",
    "\n",
    "X_train_val, X_test, y_train_val, y_test = train_test_split(X, y, test_size=0.2, random_state=42)\n",
    "\n",
    "X_train, X_val, y_train, y_val = train_test_split(X_train_val, y_train_val, test_size=0.25, random_state=42)"
   ]
  },
  {
   "cell_type": "markdown",
   "metadata": {},
   "source": [
    "# Rete Neurale"
   ]
  },
  {
   "cell_type": "code",
   "execution_count": null,
   "metadata": {},
   "outputs": [],
   "source": [
    "model_custom = Sequential([\n",
    "    Dense(64, activation='relu', input_shape=(X_train_val.shape[1],)),\n",
    "    Dense(32, activation='relu'),\n",
    "    Dense(16, activation='relu'),\n",
    "    Dense(8, activation='relu'),\n",
    "    Dense(1)\n",
    "])"
   ]
  },
  {
   "cell_type": "code",
   "execution_count": null,
   "metadata": {},
   "outputs": [],
   "source": [
    "model_custom.summary()"
   ]
  },
  {
   "cell_type": "code",
   "execution_count": 81,
   "metadata": {},
   "outputs": [],
   "source": [
    "model_custom.compile(optimizer='adam', loss='mean_squared_error', metrics=['mean_squared_error'])"
   ]
  },
  {
   "cell_type": "markdown",
   "metadata": {},
   "source": [
    "Funzione di callback"
   ]
  },
  {
   "cell_type": "code",
   "execution_count": 82,
   "metadata": {},
   "outputs": [],
   "source": [
    "early_stopping = EarlyStopping(\n",
    "    monitor='loss',\n",
    "    patience=10,\n",
    "    min_delta=0.001,\n",
    "    restore_best_weights=True\n",
    ")"
   ]
  },
  {
   "cell_type": "code",
   "execution_count": null,
   "metadata": {},
   "outputs": [],
   "source": [
    "history = model_custom.fit(X_train_val, y_train_val, epochs=100, batch_size=32, verbose=1, validation_data=(X_val, y_val), callbacks=[early_stopping])"
   ]
  },
  {
   "cell_type": "markdown",
   "metadata": {},
   "source": [
    "Visualizzazione MSE e Loss insieme alla validation"
   ]
  },
  {
   "cell_type": "code",
   "execution_count": null,
   "metadata": {},
   "outputs": [],
   "source": [
    "#Grafico dell'andamento della loss\n",
    "plt.figure(figsize=(12, 6))\n",
    "\n",
    "plt.subplot(1, 2, 1)\n",
    "plt.plot(history.history['loss'], label='Train Loss')\n",
    "plt.plot(history.history['val_loss'], label='Validation Loss')\n",
    "plt.title('Loss durante il training')\n",
    "plt.xlabel('Epoche')\n",
    "plt.ylabel('Loss')\n",
    "plt.legend()\n",
    "\n",
    "#Grafico dell'andamento dell'MSE\n",
    "plt.subplot(1, 2, 2)\n",
    "plt.plot(history.history['mean_squared_error'], label='Train MSE')\n",
    "plt.plot(history.history['val_mean_squared_error'], label='Validation MSE')\n",
    "plt.title('MSE durante il training')\n",
    "plt.xlabel('Epoche')\n",
    "plt.ylabel('Mean Squared Error')\n",
    "plt.legend()\n",
    "\n",
    "plt.tight_layout()\n",
    "plt.show()"
   ]
  },
  {
   "cell_type": "markdown",
   "metadata": {},
   "source": [
    "Valutazione sul test MAE RMSE"
   ]
  },
  {
   "cell_type": "code",
   "execution_count": null,
   "metadata": {},
   "outputs": [],
   "source": [
    "y_pred = model_custom.predict(X_test)\n",
    "\n",
    "# Calcola MAE\n",
    "mae = mean_absolute_error(y_test, y_pred)\n",
    "\n",
    "# Calcola RMSE\n",
    "rmse = np.sqrt(mean_squared_error(y_test, y_pred))\n",
    "\n",
    "print(f\"MAE: {mae}\")\n",
    "print(f\"RMSE: {rmse}\")"
   ]
  },
  {
   "cell_type": "markdown",
   "metadata": {},
   "source": [
    "Comparazione tra dati predetti e dati effettivi nel test"
   ]
  },
  {
   "cell_type": "code",
   "execution_count": 87,
   "metadata": {},
   "outputs": [],
   "source": [
    "y_pred = y_pred.flatten()"
   ]
  },
  {
   "cell_type": "code",
   "execution_count": null,
   "metadata": {},
   "outputs": [],
   "source": [
    "correlation = np.corrcoef(y_test, y_pred)[0, 1]\n",
    "print(f\"Correlazione tra i prezzi reali e quelli predetti: {correlation:.4f}\")"
   ]
  },
  {
   "cell_type": "markdown",
   "metadata": {},
   "source": [
    "Correlation matrix per visualizzare il peso effettivo delle features"
   ]
  },
  {
   "cell_type": "code",
   "execution_count": null,
   "metadata": {},
   "outputs": [],
   "source": [
    "correlation_matrix = df_fill.corr()\n",
    "\n",
    "for col in df_fill.columns:\n",
    "    print(f\"Correlazione tra SalePrice e {col}: {correlation_matrix['SalePrice'][col]:.4f}\")\n",
    "\n",
    "#I valori negativi non influiscono nella predizione, pertanto sono inutili"
   ]
  },
  {
   "cell_type": "markdown",
   "metadata": {},
   "source": [
    "# Modello semplice di regressione"
   ]
  },
  {
   "cell_type": "code",
   "execution_count": 90,
   "metadata": {},
   "outputs": [],
   "source": [
    "#Random forest regressor\n",
    "random_forest_regr = RandomForestRegressor(\n",
    "    n_estimators = 10,\n",
    "    random_state = 42\n",
    ")"
   ]
  },
  {
   "cell_type": "code",
   "execution_count": null,
   "metadata": {},
   "outputs": [],
   "source": [
    "random_forest_regr.fit(X_train,y_train)"
   ]
  },
  {
   "cell_type": "code",
   "execution_count": 92,
   "metadata": {},
   "outputs": [],
   "source": [
    "y_pred_forest_regr = random_forest_regr.predict(X_test)"
   ]
  },
  {
   "cell_type": "code",
   "execution_count": null,
   "metadata": {},
   "outputs": [],
   "source": [
    "regressor = DecisionTreeRegressor(random_state=42)\n",
    "\n",
    "#Addestra il modello\n",
    "regressor.fit(X_train, y_train)\n",
    "\n",
    "#Effettua previsioni sui dati di test\n",
    "y_pred = regressor.predict(X_test)\n",
    "\n",
    "#Valuta le performance del modello\n",
    "mae = mean_absolute_error(y_test, y_pred)\n",
    "rmse = np.sqrt(mean_squared_error(y_test, y_pred))\n",
    "\n",
    "print(f\"MAE: {mae}\")\n",
    "print(f\"RMSE: {rmse}\")"
   ]
  },
  {
   "cell_type": "code",
   "execution_count": null,
   "metadata": {},
   "outputs": [],
   "source": [
    "#Calcola MAE\n",
    "mae = mean_absolute_error(y_test, y_pred_forest_regr)\n",
    "#Calcola RMSE\n",
    "rmse = np.sqrt(mean_squared_error(y_test, y_pred_forest_regr))\n",
    "\n",
    "print(f\"MAE random forest: {mae}\")\n",
    "print(f\"RMSE random forest: {rmse}\")\n",
    "\n",
    "y_pred = model_custom.predict(X_test)\n",
    "\n",
    "#Calcola MAE\n",
    "mae = mean_absolute_error(y_test, y_pred)\n",
    "#Calcola RMSE\n",
    "rmse = np.sqrt(mean_squared_error(y_test, y_pred))\n",
    "\n",
    "print(f\"MAE NN {mae}\")\n",
    "print(f\"RMSE NN: {rmse}\")"
   ]
  },
  {
   "cell_type": "markdown",
   "metadata": {},
   "source": [
    "# **Conclusioni Parte 1**"
   ]
  },
  {
   "cell_type": "markdown",
   "metadata": {},
   "source": [
    "In questo esperimento, sono stati utilizzati tre modelli di apprendimento automatico per prevedere il valore della variabile SalePrice in base a diverse caratteristiche del dataset. I modelli scelti per questa analisi sono:\n",
    "\n",
    "- Random Forest\n",
    "- Rete Neurale (NN)\n",
    "- Decision Tree Regressor\n",
    "\n",
    "Tutti i modelli sono stati addestrati e valutati sui dati di test, con i seguenti risultati.\n",
    "\n",
    "**Risultati per Random Forest**\n",
    "- MAE (Errore Assoluto Medio): 0.2238\n",
    "- RMSE (Errore Quadratico Medio): 0.3579\n",
    "\n",
    "**Risultati per la Rete Neurale (NN)**\n",
    "- MAE (Errore Assoluto Medio): 0.1922\n",
    "- RMSE (Errore Quadratico Medio): 0.3652\n",
    "- Abbiamo provato diverse complessità per la rete neurale, a complessità molto elevate (512/1024 primo layer) si rischia un overfit tuttavia aumentando di complessità la precisione aumenta\n",
    "\n",
    "**Risultati per Decision Tree**\n",
    "- MAE (Errore Assoluto Medio): 0.3185\n",
    "- RMSE (Errore Quadratico Medio): 0.4768\n",
    "\n",
    "### **Analisi dei Risultati**\n",
    "\n",
    "**1.Errore Assoluto Medio (MAE):**\n",
    "- La Rete Neurale (NN) ha mostrato un errore assoluto medio (MAE) inferiore rispetto alla Random Forest (0.1922 vs. 0.2238).\n",
    "Ciò indica che la Rete Neurale è più precisa nel predire il valore assoluto del prezzo di vendita, mostrando una leggera superiorità in termini di accuratezza.\n",
    "\n",
    "**2.Errore Quadratico Medio (RMSE):**\n",
    "- Sebbene la Rete Neurale (NN) abbia un errore assoluto medio più basso, l'RMSE della Rete Neurale risulta essere leggermente superiore rispetto alla Random Forest (0.3652 vs. 0.3579).\n",
    "- Questo suggerisce che la Random Forest ha una prestazione migliore in termini di riduzione dell'errore quadratico medio, gestendo in modo più efficace gli outliers o valori estremi.\n",
    "\n",
    "**3.Decision Tree:**\n",
    "- Il Decision Tree, pur essendo un modello semplice e facile da interpretare, ha mostrato i peggiori risultati tra i tre modelli, con il più alto MAE e RMSE.\n",
    "- Questo potrebbe essere dovuto alla sua sensibilità agli overfitting, soprattutto se non regolarizzato correttamente, e alla sua limitata capacità di generalizzare rispetto ai modelli più complessi come la Random Forest e la Rete Neurale.\n",
    "\n",
    "**Considerazioni Finali:**\n",
    "Entrambi i modelli hanno funzionato bene, ma la Rete Neurale ha avuto un errore assoluto medio (MAE) inferiore, il che indica che è stata leggermente più accurata nelle previsioni generali.\n",
    "D'altra parte, la Random Forest ha mostrato un errore quadratico medio (RMSE) inferiore, il che la rende più adatta per la gestione dei valori anomali o per la riduzione degli errori estremi.\n",
    "\n",
    "**Approccio Migliore in Funzione degli Obiettivi:**\n",
    "Se l'obiettivo principale è minimizzare l'errore assoluto medio (MAE) e ottenere previsioni più precise in generale, la Rete Neurale ha un leggero vantaggio.\n",
    "Se invece si desidera ridurre l'errore quadratico medio (RMSE) e gestire meglio i valori anomali, la Random Forest potrebbe essere la scelta migliore.\n",
    "\n",
    "# **Conclusione Finale**\n",
    "In sintesi, tutti e tre i modelli hanno mostrato buone prestazioni, ma la Rete Neurale si distingue per la sua precisione nelle previsioni, mentre la Random Forest è preferibile in scenari dove è necessario gestire gli outliers e ridurre l'impatto degli errori quadrati. Il Decision Tree, pur essendo utile in situazioni in cui la semplicità e l'interpretabilità sono prioritari, ha mostrato prestazioni inferiori in questo esperimento.\n",
    "La scelta del modello dipenderà quindi dalle specifiche necessità del problema e dagli obiettivi da raggiungere, come la gestione dei valori estremi, la precisione nelle previsioni o la semplicità del modello."
   ]
  }
 ],
 "metadata": {
  "kernelspec": {
   "display_name": "Python 3",
   "language": "python",
   "name": "python3"
  },
  "language_info": {
   "codemirror_mode": {
    "name": "ipython",
    "version": 3
   },
   "file_extension": ".py",
   "mimetype": "text/x-python",
   "name": "python",
   "nbconvert_exporter": "python",
   "pygments_lexer": "ipython3",
   "version": "3.11.9"
  }
 },
 "nbformat": 4,
 "nbformat_minor": 2
}
